{
  "cells": [
    {
      "cell_type": "markdown",
      "metadata": {
        "id": "IO1m4W-2FugO"
      },
      "source": [
        "Практический проект по сбору данных и работе с текстами \n",
        "\n",
        "Часть 1. Парсинг\n",
        "\n",
        "Часть 2. NLP \n"
      ]
    },
    {
      "cell_type": "markdown",
      "metadata": {
        "id": "XL1oz41bVz00"
      },
      "source": [
        "# Task: Nplus1 articles' difficulty predition"
      ]
    },
    {
      "cell_type": "markdown",
      "metadata": {
        "id": "0JBSSmGdVz00"
      },
      "source": [
        "There are 2396 articles from news site with scientific-themed articles. \n",
        "The editors mark each article with 'difficulty'. Here's what they write about it:\n",
        "Пытливый читатель обратил внимание, что у наших новостей есть параметр под названием сложность. Мы не претендуем на создание универсальной шкалы, в рамках которой можно бы было сравнивать материалы из разных областей знаний.\n",
        "\n",
        "Наша сложность - это некоторая коллективная оценка редакции интеллектуальных усилий, которые понадобились редактору для написания заметки. Мы полагаем, что эти усилия пропорциональны усилиям, которые, следовательно, потребуются читателю для прочтения.\n",
        "\n",
        "В общем, не воспринимайте сложность слишком серьезно.\n",
        "\n",
        "\n",
        "I don't know how this difficulty metric gets calculated but there is a good chance that authors mark their articles themselves. Usually russian media do not employ too many people. I'll try to predict the difficulty based on a number of metrics:\n",
        "\n",
        "Author's name\n",
        "Time of the day when the article is published (in seconds)\n",
        "Number of images in the article\n",
        "Number of paragraph in the article\n",
        "Number of hyperlinks in the article\n",
        "Field of science\n",
        "\n",
        "Name of the article\n",
        "Text of the article\n"
      ]
    },
    {
      "cell_type": "markdown",
      "metadata": {
        "ExecuteTime": {
          "end_time": "2022-02-05T22:17:00.074135Z",
          "start_time": "2022-02-05T22:17:00.058145Z"
        },
        "id": "wI4odN9dVz01"
      },
      "source": [
        "# Parsing"
      ]
    },
    {
      "cell_type": "code",
      "execution_count": null,
      "metadata": {
        "ExecuteTime": {
          "end_time": "2022-02-06T02:58:50.283443Z",
          "start_time": "2022-02-06T02:58:49.227783Z"
        },
        "id": "35Uti68PFugT"
      },
      "outputs": [],
      "source": [
        "import requests      # Библиотека для отправки запросов\n",
        "import numpy as np   # Библиотека для матриц, векторов и линала\n",
        "import pandas as pd  # Библиотека для табличек \n",
        "import time          # Библиотека для времени\n",
        "from bs4 import BeautifulSoup\n",
        "from fake_useragent import UserAgent\n",
        "from tqdm import tqdm_notebook\n",
        "import datetime"
      ]
    },
    {
      "cell_type": "code",
      "execution_count": null,
      "metadata": {
        "ExecuteTime": {
          "end_time": "2022-02-06T02:58:50.331413Z",
          "start_time": "2022-02-06T02:58:50.317422Z"
        },
        "id": "_YuBYpiIVz02"
      },
      "outputs": [],
      "source": [
        "import socks\n",
        "import socket\n",
        "socks.set_default_proxy(socks.SOCKS5, \"localhost\", 9150)\n",
        "socket.socket = socks.socksocket"
      ]
    },
    {
      "cell_type": "code",
      "execution_count": null,
      "metadata": {
        "ExecuteTime": {
          "end_time": "2022-02-05T22:17:01.137912Z",
          "start_time": "2022-02-05T22:17:01.125920Z"
        },
        "code_folding": [],
        "id": "iwKbhgBuFugh"
      },
      "outputs": [],
      "source": [
        "def getPageLinks(month_number):\n",
        "    page_link = 'https://nplus1.ru/news/2021/' + month_number\n",
        "    response = requests.get(page_link)\n",
        "    if not response.ok:\n",
        "        return [] \n",
        "\n",
        "    html = response.content\n",
        "    soup = BeautifulSoup(html,'html.parser')\n",
        "    news_links = soup.findAll(lambda tag: tag.name == 'a' and '/news/2021/' in tag.get('href'))\n",
        "    news_links = ['https://nplus1.ru' + link.attrs['href'] for link in news_links]\n",
        "\n",
        "    return news_links"
      ]
    },
    {
      "cell_type": "code",
      "execution_count": null,
      "metadata": {
        "ExecuteTime": {
          "end_time": "2022-02-05T22:17:01.621196Z",
          "start_time": "2022-02-05T22:17:01.602205Z"
        },
        "id": "NAQAorxzVz03"
      },
      "outputs": [],
      "source": [
        "def getDifficulty(soup):\n",
        "    try:\n",
        "        difficulty = soup.find(lambda tag: tag.name == 'a' and 'difficult' in tag.get('href'))\n",
        "        difficulty_coef=float(difficulty.get(\"href\").split(sep='/')[-1])\n",
        "    except:\n",
        "        difficulty_coef=None\n",
        "    return difficulty_coef"
      ]
    },
    {
      "cell_type": "code",
      "execution_count": null,
      "metadata": {
        "ExecuteTime": {
          "end_time": "2022-02-05T22:17:03.173697Z",
          "start_time": "2022-02-05T22:17:03.161705Z"
        },
        "id": "siln8JoiVz04"
      },
      "outputs": [],
      "source": [
        "def getRubric(soup):\n",
        "    try:\n",
        "        rubric = soup.find(lambda tag: tag.name == 'a' and tag.get('data-rubric'))\n",
        "        rubric=(rubric.text.strip())\n",
        "    except:\n",
        "        rubric=None\n",
        "    return rubric"
      ]
    },
    {
      "cell_type": "code",
      "execution_count": null,
      "metadata": {
        "ExecuteTime": {
          "end_time": "2022-02-05T22:17:03.795088Z",
          "start_time": "2022-02-05T22:17:03.778096Z"
        },
        "id": "f_G7RMgrVz04"
      },
      "outputs": [],
      "source": [
        "def getTime(soup):\n",
        "    if soup.find(lambda tag: tag.name == 'time' and 'datePublished' in tag.get('itemprop')):\n",
        "        time = soup.find(lambda tag: tag.name == 'time' and 'datePublished' in tag.get('itemprop'))\n",
        "        seconds_count=(datetime.datetime.strptime(time.text.strip().split(sep='\\n')[0], '%H:%M')-datetime.datetime.strptime('00:00', '%H:%M')).total_seconds()\n",
        "    else:\n",
        "        seconds_count=None\n",
        "    return seconds_count"
      ]
    },
    {
      "cell_type": "code",
      "execution_count": null,
      "metadata": {
        "ExecuteTime": {
          "end_time": "2022-02-05T22:17:05.128539Z",
          "start_time": "2022-02-05T22:17:05.114548Z"
        },
        "id": "DePksOJ3Vz05"
      },
      "outputs": [],
      "source": [
        "def getName(soup):\n",
        "    if  soup.find('h1'):\n",
        "        name = soup.find('h1')\n",
        "        name=name.text\n",
        "    else:\n",
        "        name=\"\"\n",
        "    return name\n"
      ]
    },
    {
      "cell_type": "code",
      "execution_count": null,
      "metadata": {
        "ExecuteTime": {
          "end_time": "2022-02-05T22:20:47.710936Z",
          "start_time": "2022-02-05T22:20:47.695945Z"
        },
        "id": "n6nbt-5pVz05"
      },
      "outputs": [],
      "source": [
        "def getText(soup):\n",
        "    body = soup.find('div', attrs={'class':'js-mediator-article'})\n",
        "    # раздел about (если он есть), должен идти первым, берем его без уточнения класса\n",
        "    text_all = body.findAll('p',attrs={'class':''})\n",
        "    if not text_all:\n",
        "        return {'Author':\"\", 'Article':\"\", 'num_href': 0,'num_abzats':0,'num_img':0}\n",
        "        \n",
        "    Article=\" \".join([x.text.strip() for x in text_all[:-1] if 'Поделиться' not in x.text])\n",
        "    \n",
        "    Author = body.findAll(lambda tag: tag.name == 'i' and not tag.get('class'))\n",
        "    Author=Author[-1]\n",
        "    Author=Author.text\n",
        "    if 'редактора' in Author:\n",
        "        Author = body.findAll(lambda tag: tag.name == 'i' and not tag.get('class'))\n",
        "        Author=Author[-2]\n",
        "        Author=Author.text\n",
        "        Article=\" \".join([x.text.strip() for x in text_all[:-2] if 'Поделиться' not in x.text])\n",
        "\n",
        "    Author=\" \".join(Author.split('\\n'))\n",
        "    Author=\" \".join(Author.split('\\r'))\n",
        "\n",
        "    Article=\" \".join(Article.split('\\n'))\n",
        "    Article=\" \".join(Article.split('\\r'))\n",
        "\n",
        "    num_abzats=len(text_all)-1\n",
        "    num_href = len(body.findAll('a'))\n",
        "\n",
        "    img_title = body.findAll(lambda tag: tag.name == 'div' and tag.get('class')==['article-image'])\n",
        "    img_in = body.findAll(lambda tag: tag.name == 'div' and tag.get('class')==['img'])\n",
        "    num_img=(len(img_in)+len(img_title))\n",
        "    \n",
        "    return {'Author':Author, 'Article':Article, 'num_href': num_href,'num_abzats':num_abzats,'num_img':num_img}\n"
      ]
    },
    {
      "cell_type": "code",
      "execution_count": null,
      "metadata": {
        "ExecuteTime": {
          "end_time": "2022-02-05T22:17:08.741959Z",
          "start_time": "2022-02-05T22:17:08.730965Z"
        },
        "id": "SwOzyJnNVz05"
      },
      "outputs": [],
      "source": [
        "def getNplus1Data(page):\n",
        "    # запрашиваем данные по ссылке\n",
        "    response = requests.get(page, headers={'User-Agent': UserAgent().chrome})\n",
        "    \n",
        "    if not response.ok:\n",
        "        # если сервер нам отказал, вернем статус ошибки \n",
        "        return response.status_code\n",
        "    \n",
        "    # получаем содержимое страницы и переводим в суп\n",
        "    html = response.content\n",
        "    soup = BeautifulSoup(html,'html.parser')\n",
        "\n",
        "    seconds = getTime(soup)\n",
        "    rubric = getRubric(soup)\n",
        "    difficulty = getDifficulty(soup)\n",
        "    name = getName(soup)\n",
        "    pagedata=page.split('/')\n",
        "    date = \"\" if len(pagedata)<7 else '.'.join(pagedata[4:7])\n",
        "#    print(\"seconds: {}\\trubric: {}\\tdifficulty: {}\\tname: {}\\tdate: {}\".format(seconds, rubric, difficulty, name,date))\n",
        "    text=getText(soup)\n",
        "\n",
        "    # составляем словарь, в котором будут хранится все полученные и обработанные данные\n",
        "    data_row = {\"date_added\":date, \"rubric\":rubric, \n",
        "                \"difficulty\":difficulty, \"seconds\":seconds, \"name\":name}\n",
        "    data_row.update(text)\n",
        "\n",
        "    return data_row"
      ]
    },
    {
      "cell_type": "code",
      "execution_count": null,
      "metadata": {
        "ExecuteTime": {
          "end_time": "2022-02-05T23:22:27.566939Z",
          "start_time": "2022-02-05T22:23:09.896750Z"
        },
        "colab": {
          "base_uri": "https://localhost:8080/",
          "height": 121,
          "referenced_widgets": [
            "e6c506c1e9f2412baf8800abc75caf0b",
            "134ab63f5e9247ec834991571adf781c",
            "6e83da8c9d78451c9971cc235155c8ad",
            "21d094eee7f845e89d889fa83876bacc",
            "985ff60448ce4583b988df5b781a85a5",
            "aa1be99265b540af9bd828c6dbbaf6f1",
            "79d902fb1048423aaf460d130df54283",
            "f7ee5c559df84e3d87de5b864d109d6f",
            "93b7a092048f49d0adfdc8ce18746fc1",
            "769ad8e01fb34910be6be05c99b651f1",
            "efdea74c9c1344d6899ed82a97d2c20b",
            "fd8454be71f94d56a2e260df0b2d8d2b",
            "ccdd34bc532a4f38a66864f8a6e1c7c0",
            "13c1cf82f2ac4e30ab31a4dccc748671",
            "133be86a5ef243198a33df1d40a08a59",
            "9b3e26e74d7147c8bfc713cd503ee9a7",
            "96000a9559fc48a4a8f4da21763404e2",
            "e196e49c90d244faaedfa029194554ae",
            "e49795ac26614d4584264ab9fdbf9eed",
            "6dbac4d34c30455d8cf36afed742af88",
            "b0d835e2cd6a45669c35708b5d7e1381",
            "702f148e55024669aea0675a435c077c",
            "e310f29dd1854be2a5847b690a93f62b",
            "122a4a800efe4c5ca2dc0acf7c68302d"
          ]
        },
        "id": "srOVa1nHFugp",
        "outputId": "ad893d5c-0fe3-4234-ea4f-b6ece377dff8",
        "scrolled": false
      },
      "outputs": [
        {
          "name": "stderr",
          "output_type": "stream",
          "text": [
            "C:\\Users\\Pablo\\AppData\\Local\\Temp/ipykernel_16284/2138579429.py:10: TqdmDeprecationWarning: This function will be removed in tqdm==5.0.0\n",
            "Please use `tqdm.notebook.tqdm` instead of `tqdm.tqdm_notebook`\n",
            "  for month in tqdm_notebook(month_numbers):\n"
          ]
        },
        {
          "data": {
            "application/vnd.jupyter.widget-view+json": {
              "model_id": "fd8454be71f94d56a2e260df0b2d8d2b",
              "version_major": 2,
              "version_minor": 0
            },
            "text/plain": [
              "  0%|          | 0/12 [00:00<?, ?it/s]"
            ]
          },
          "metadata": {},
          "output_type": "display_data"
        },
        {
          "name": "stderr",
          "output_type": "stream",
          "text": [
            "C:\\Users\\Pablo\\AppData\\Local\\Temp/ipykernel_16284/2138579429.py:12: TqdmDeprecationWarning: This function will be removed in tqdm==5.0.0\n",
            "Please use `tqdm.notebook.tqdm` instead of `tqdm.tqdm_notebook`\n",
            "  for newwz_link in tqdm_notebook(newz_links):\n"
          ]
        },
        {
          "data": {
            "application/vnd.jupyter.widget-view+json": {
              "model_id": "ccdd34bc532a4f38a66864f8a6e1c7c0",
              "version_major": 2,
              "version_minor": 0
            },
            "text/plain": [
              "  0%|          | 0/200 [00:00<?, ?it/s]"
            ]
          },
          "metadata": {},
          "output_type": "display_data"
        },
        {
          "data": {
            "application/vnd.jupyter.widget-view+json": {
              "model_id": "13c1cf82f2ac4e30ab31a4dccc748671",
              "version_major": 2,
              "version_minor": 0
            },
            "text/plain": [
              "  0%|          | 0/200 [00:00<?, ?it/s]"
            ]
          },
          "metadata": {},
          "output_type": "display_data"
        },
        {
          "data": {
            "application/vnd.jupyter.widget-view+json": {
              "model_id": "133be86a5ef243198a33df1d40a08a59",
              "version_major": 2,
              "version_minor": 0
            },
            "text/plain": [
              "  0%|          | 0/200 [00:00<?, ?it/s]"
            ]
          },
          "metadata": {},
          "output_type": "display_data"
        },
        {
          "data": {
            "application/vnd.jupyter.widget-view+json": {
              "model_id": "9b3e26e74d7147c8bfc713cd503ee9a7",
              "version_major": 2,
              "version_minor": 0
            },
            "text/plain": [
              "  0%|          | 0/200 [00:00<?, ?it/s]"
            ]
          },
          "metadata": {},
          "output_type": "display_data"
        },
        {
          "data": {
            "application/vnd.jupyter.widget-view+json": {
              "model_id": "96000a9559fc48a4a8f4da21763404e2",
              "version_major": 2,
              "version_minor": 0
            },
            "text/plain": [
              "  0%|          | 0/200 [00:00<?, ?it/s]"
            ]
          },
          "metadata": {},
          "output_type": "display_data"
        },
        {
          "data": {
            "application/vnd.jupyter.widget-view+json": {
              "model_id": "e196e49c90d244faaedfa029194554ae",
              "version_major": 2,
              "version_minor": 0
            },
            "text/plain": [
              "  0%|          | 0/200 [00:00<?, ?it/s]"
            ]
          },
          "metadata": {},
          "output_type": "display_data"
        },
        {
          "data": {
            "application/vnd.jupyter.widget-view+json": {
              "model_id": "e49795ac26614d4584264ab9fdbf9eed",
              "version_major": 2,
              "version_minor": 0
            },
            "text/plain": [
              "  0%|          | 0/200 [00:00<?, ?it/s]"
            ]
          },
          "metadata": {},
          "output_type": "display_data"
        },
        {
          "data": {
            "application/vnd.jupyter.widget-view+json": {
              "model_id": "6dbac4d34c30455d8cf36afed742af88",
              "version_major": 2,
              "version_minor": 0
            },
            "text/plain": [
              "  0%|          | 0/200 [00:00<?, ?it/s]"
            ]
          },
          "metadata": {},
          "output_type": "display_data"
        },
        {
          "data": {
            "application/vnd.jupyter.widget-view+json": {
              "model_id": "b0d835e2cd6a45669c35708b5d7e1381",
              "version_major": 2,
              "version_minor": 0
            },
            "text/plain": [
              "  0%|          | 0/200 [00:00<?, ?it/s]"
            ]
          },
          "metadata": {},
          "output_type": "display_data"
        },
        {
          "data": {
            "application/vnd.jupyter.widget-view+json": {
              "model_id": "702f148e55024669aea0675a435c077c",
              "version_major": 2,
              "version_minor": 0
            },
            "text/plain": [
              "  0%|          | 0/200 [00:00<?, ?it/s]"
            ]
          },
          "metadata": {},
          "output_type": "display_data"
        },
        {
          "data": {
            "application/vnd.jupyter.widget-view+json": {
              "model_id": "e310f29dd1854be2a5847b690a93f62b",
              "version_major": 2,
              "version_minor": 0
            },
            "text/plain": [
              "  0%|          | 0/200 [00:00<?, ?it/s]"
            ]
          },
          "metadata": {},
          "output_type": "display_data"
        },
        {
          "data": {
            "application/vnd.jupyter.widget-view+json": {
              "model_id": "122a4a800efe4c5ca2dc0acf7c68302d",
              "version_major": 2,
              "version_minor": 0
            },
            "text/plain": [
              "  0%|          | 0/200 [00:00<?, ?it/s]"
            ]
          },
          "metadata": {},
          "output_type": "display_data"
        }
      ],
      "source": [
        "final_df = pd.DataFrame(columns=['date_added', 'rubric', 'difficulty', \n",
        "                                  'Author','seconds','name',  'Article', \n",
        "                                 'num_href', 'num_abzats',\"num_img\"])\n",
        "\n",
        "month_numbers=['01','02','03','04','05','06','07','08','09','10','11','12']\n",
        "\n",
        "counter=0\n",
        "\n",
        "for month in tqdm_notebook(month_numbers):\n",
        "    newz_links = getPageLinks(month)\n",
        "    for newwz_link in tqdm_notebook(newz_links):\n",
        "        counter+=1\n",
        "        if counter%100==1:\n",
        "            final_df.to_csv('Nplus1_prelim_{}.csv'.format(int(counter/100)))\n",
        "        try: \n",
        "            data_row = getNplus1Data(newwz_link)\n",
        "            final_df = final_df.append(data_row, ignore_index=True)\n",
        "            time.sleep(0.3102343)\n",
        "        except:\n",
        "            continue\n",
        "\n",
        "final_df.to_csv('Nplus1_full.csv')"
      ]
    },
    {
      "cell_type": "code",
      "execution_count": null,
      "metadata": {
        "ExecuteTime": {
          "end_time": "2022-02-06T01:02:31.161505Z",
          "start_time": "2022-02-06T01:02:31.142516Z"
        },
        "colab": {
          "base_uri": "https://localhost:8080/"
        },
        "id": "dOU6TZQIFugp",
        "outputId": "afdb38c4-427a-40aa-8d50-232cf0d37a6f"
      },
      "outputs": [
        {
          "data": {
            "text/plain": [
              "(2396, 11)"
            ]
          },
          "execution_count": 147,
          "metadata": {},
          "output_type": "execute_result"
        }
      ],
      "source": [
        "final_df.shape"
      ]
    },
    {
      "cell_type": "code",
      "execution_count": null,
      "metadata": {
        "ExecuteTime": {
          "end_time": "2022-02-06T01:19:34.047004Z",
          "start_time": "2022-02-06T01:19:34.007028Z"
        },
        "id": "T0Gw9KRlVz07",
        "outputId": "a93de327-4840-4181-ab10-56640850d81b"
      },
      "outputs": [
        {
          "data": {
            "text/plain": [
              "(2371, 11)"
            ]
          },
          "execution_count": 185,
          "metadata": {},
          "output_type": "execute_result"
        }
      ],
      "source": [
        "final_df['Author'].replace('', np.nan, inplace=True)\n",
        "final_df['name'].replace('', np.nan, inplace=True)\n",
        "final_df['Article'].replace('', np.nan, inplace=True)\n",
        "final_df['rubric'].replace('', np.nan, inplace=True)\n",
        "\n",
        "final_df['Author'].replace('nan', np.nan, inplace=True)\n",
        "final_df['name'].replace('nan', np.nan, inplace=True)\n",
        "final_df['Article'].replace('nan', np.nan, inplace=True)\n",
        "final_df['rubric'].replace('nan', np.nan, inplace=True)\n",
        "\n",
        "final_df.dropna(subset=['Author'], inplace=True)\n",
        "final_df.dropna(subset=['name'], inplace=True)\n",
        "final_df.dropna(subset=['Article'], inplace=True)\n",
        "final_df.dropna(subset=['rubric'], inplace=True)\n",
        "\n",
        "final_df.dropna()\n",
        "final_df.shape"
      ]
    },
    {
      "cell_type": "markdown",
      "metadata": {
        "id": "EqLYpaooVz07"
      },
      "source": [
        "# EDA"
      ]
    },
    {
      "cell_type": "code",
      "execution_count": null,
      "metadata": {
        "ExecuteTime": {
          "end_time": "2022-02-06T01:14:09.571080Z",
          "start_time": "2022-02-06T01:14:09.553095Z"
        },
        "colab": {
          "base_uri": "https://localhost:8080/",
          "height": 722
        },
        "id": "jL3_7JwVFugq",
        "outputId": "85325598-1686-43fa-af14-729a5aa8099f"
      },
      "outputs": [
        {
          "data": {
            "text/html": [
              "<div>\n",
              "<style scoped>\n",
              "    .dataframe tbody tr th:only-of-type {\n",
              "        vertical-align: middle;\n",
              "    }\n",
              "\n",
              "    .dataframe tbody tr th {\n",
              "        vertical-align: top;\n",
              "    }\n",
              "\n",
              "    .dataframe thead th {\n",
              "        text-align: right;\n",
              "    }\n",
              "</style>\n",
              "<table border=\"1\" class=\"dataframe\">\n",
              "  <thead>\n",
              "    <tr style=\"text-align: right;\">\n",
              "      <th></th>\n",
              "      <th>Unnamed: 0</th>\n",
              "      <th>date_added</th>\n",
              "      <th>rubric</th>\n",
              "      <th>difficulty</th>\n",
              "      <th>Author</th>\n",
              "      <th>seconds</th>\n",
              "      <th>name</th>\n",
              "      <th>Article</th>\n",
              "      <th>num_href</th>\n",
              "      <th>num_abzats</th>\n",
              "      <th>num_img</th>\n",
              "    </tr>\n",
              "  </thead>\n",
              "  <tbody>\n",
              "    <tr>\n",
              "      <th>0</th>\n",
              "      <td>0</td>\n",
              "      <td>2021.01.30</td>\n",
              "      <td>Астрономия</td>\n",
              "      <td>1.9</td>\n",
              "      <td>Александр Войтюк</td>\n",
              "      <td>60720.0</td>\n",
              "      <td>Китайский космический гамма-монитор увидел сво...</td>\n",
              "      <td>Один из спутников китайского гамма-монитора вс...</td>\n",
              "      <td>3</td>\n",
              "      <td>5</td>\n",
              "      <td>3</td>\n",
              "    </tr>\n",
              "    <tr>\n",
              "      <th>1</th>\n",
              "      <td>1</td>\n",
              "      <td>2021.01.30</td>\n",
              "      <td>Оружие</td>\n",
              "      <td>3.1</td>\n",
              "      <td>Василий Сычёв</td>\n",
              "      <td>57360.0</td>\n",
              "      <td>Военные раскрыли характеристики модернизирован...</td>\n",
              "      <td>Министерство обороны России впервые обнародова...</td>\n",
              "      <td>1</td>\n",
              "      <td>4</td>\n",
              "      <td>1</td>\n",
              "    </tr>\n",
              "    <tr>\n",
              "      <th>2</th>\n",
              "      <td>2</td>\n",
              "      <td>2021.01.30</td>\n",
              "      <td>Оружие</td>\n",
              "      <td>3.1</td>\n",
              "      <td>Василий Сычёв</td>\n",
              "      <td>53400.0</td>\n",
              "      <td>Грузины занялись разработкой ударного беспилот...</td>\n",
              "      <td>Грузинское предприятие «Тбилавиамшени» занялос...</td>\n",
              "      <td>3</td>\n",
              "      <td>4</td>\n",
              "      <td>1</td>\n",
              "    </tr>\n",
              "    <tr>\n",
              "      <th>3</th>\n",
              "      <td>3</td>\n",
              "      <td>2021.01.30</td>\n",
              "      <td>Археология</td>\n",
              "      <td>1.9</td>\n",
              "      <td>Винера Андреева</td>\n",
              "      <td>49440.0</td>\n",
              "      <td>Амфоры с затонувшего корабля рассказали о торг...</td>\n",
              "      <td>Греческие археологи исследовали остатки античн...</td>\n",
              "      <td>7</td>\n",
              "      <td>11</td>\n",
              "      <td>5</td>\n",
              "    </tr>\n",
              "    <tr>\n",
              "      <th>4</th>\n",
              "      <td>4</td>\n",
              "      <td>2021.01.30</td>\n",
              "      <td>Оружие</td>\n",
              "      <td>3.1</td>\n",
              "      <td>Василий Сычёв</td>\n",
              "      <td>43980.0</td>\n",
              "      <td>Испытания гиперзвуковой ракеты «Циркон» заверш...</td>\n",
              "      <td>Государственные испытания перспективной гиперз...</td>\n",
              "      <td>3</td>\n",
              "      <td>4</td>\n",
              "      <td>1</td>\n",
              "    </tr>\n",
              "  </tbody>\n",
              "</table>\n",
              "</div>"
            ],
            "text/plain": [
              "   Unnamed: 0  date_added      rubric  difficulty            Author  seconds  \\\n",
              "0           0  2021.01.30  Астрономия         1.9  Александр Войтюк  60720.0   \n",
              "1           1  2021.01.30      Оружие         3.1     Василий Сычёв  57360.0   \n",
              "2           2  2021.01.30      Оружие         3.1     Василий Сычёв  53400.0   \n",
              "3           3  2021.01.30  Археология         1.9   Винера Андреева  49440.0   \n",
              "4           4  2021.01.30      Оружие         3.1     Василий Сычёв  43980.0   \n",
              "\n",
              "                                                name  \\\n",
              "0  Китайский космический гамма-монитор увидел сво...   \n",
              "1  Военные раскрыли характеристики модернизирован...   \n",
              "2  Грузины занялись разработкой ударного беспилот...   \n",
              "3  Амфоры с затонувшего корабля рассказали о торг...   \n",
              "4  Испытания гиперзвуковой ракеты «Циркон» заверш...   \n",
              "\n",
              "                                             Article  num_href  num_abzats  \\\n",
              "0  Один из спутников китайского гамма-монитора вс...         3           5   \n",
              "1  Министерство обороны России впервые обнародова...         1           4   \n",
              "2  Грузинское предприятие «Тбилавиамшени» занялос...         3           4   \n",
              "3  Греческие археологи исследовали остатки античн...         7          11   \n",
              "4  Государственные испытания перспективной гиперз...         3           4   \n",
              "\n",
              "   num_img  \n",
              "0        3  \n",
              "1        1  \n",
              "2        1  \n",
              "3        5  \n",
              "4        1  "
            ]
          },
          "execution_count": 164,
          "metadata": {},
          "output_type": "execute_result"
        }
      ],
      "source": [
        "final_df.head()"
      ]
    },
    {
      "cell_type": "code",
      "execution_count": null,
      "metadata": {
        "ExecuteTime": {
          "end_time": "2022-02-06T01:19:37.997952Z",
          "start_time": "2022-02-06T01:19:37.989956Z"
        },
        "id": "cXSGKJ59Vz08"
      },
      "outputs": [],
      "source": [
        "import seaborn as sns\n",
        "import matplotlib.pyplot as plt"
      ]
    },
    {
      "cell_type": "code",
      "execution_count": null,
      "metadata": {
        "ExecuteTime": {
          "end_time": "2022-02-06T01:19:39.970756Z",
          "start_time": "2022-02-06T01:19:39.452075Z"
        },
        "id": "S2V4BJ81Fugr",
        "outputId": "e1281ae1-24a9-4021-ee77-495f65f00a8b"
      },
      "outputs": [
        {
          "data": {
            "text/plain": [
              "Text(0.5, 1.0, 'Timestamp during day when Article published')"
            ]
          },
          "execution_count": 187,
          "metadata": {},
          "output_type": "execute_result"
        },
        {
          "data": {
            "image/png": "[encoded data removed]",
            "text/plain": [
              "<Figure size 1080x360 with 2 Axes>"
            ]
          },
          "metadata": {
            "needs_background": "light"
          },
          "output_type": "display_data"
        }
      ],
      "source": [
        "plt.figure(figsize=(15,5))\n",
        "\n",
        "#plot 1:\n",
        "plt.subplot(1, 2, 1)\n",
        "plt.hist(final_df['difficulty'], bins=20)\n",
        "plt.xlabel('difficulty')\n",
        "plt.ylabel('num of entries')\n",
        "plt.title('Difficulty distribution')\n",
        "\n",
        "#plot 2:\n",
        "plt.subplot(1, 2, 2)\n",
        "plt.hist(final_df['seconds'], bins=100)\n",
        "plt.xlabel('time,sec')\n",
        "plt.ylabel('num of articles')\n",
        "plt.title('Timestamp during day when Article published')\n"
      ]
    },
    {
      "cell_type": "markdown",
      "metadata": {
        "id": "lsmbyqUHVz08"
      },
      "source": [
        "The difficulty distribution looks more like Weibull distribution, than something bell-shaped like the Normal distribution.\n",
        "There are 86400 seconds during day and 10:00 is around 36000th second. So the publishing work begins at 9 AM."
      ]
    },
    {
      "cell_type": "code",
      "execution_count": null,
      "metadata": {
        "ExecuteTime": {
          "end_time": "2022-02-06T01:26:34.487266Z",
          "start_time": "2022-02-06T01:26:34.475272Z"
        },
        "id": "HxEBF8DVVz08",
        "outputId": "53f70549-b02d-4ef8-b79b-fa7fe0b27d3c"
      },
      "outputs": [
        {
          "data": {
            "text/plain": [
              "Археология           289\n",
              "Оружие               247\n",
              "Медицина             238\n",
              "Зоология             218\n",
              "Космонавтика         197\n",
              "Астрономия           196\n",
              "Физика               190\n",
              "Авиация              121\n",
              "Биология             118\n",
              "Роботы и дроны        95\n",
              "Транспорт             50\n",
              "IT                    49\n",
              "Палеонтология         49\n",
              "Экология и климат     46\n",
              "Психология            42\n",
              "Антропология          41\n",
              "Материалы             38\n",
              "Химия                 31\n",
              "Гаджеты               25\n",
              "Геология              21\n",
              "История               15\n",
              "Мезонин               11\n",
              "Ботаника              10\n",
              "Связь                  6\n",
              "3D-печать              6\n",
              "Лингвистика            5\n",
              "Инфопартнерство        4\n",
              "Математика             4\n",
              "Социология             4\n",
              "Энергетика             2\n",
              "Блоги                  1\n",
              "Реклама                1\n",
              "Экономика              1\n",
              "Name: rubric, dtype: int64"
            ]
          },
          "execution_count": 206,
          "metadata": {},
          "output_type": "execute_result"
        }
      ],
      "source": [
        "final_df['rubric'].value_counts()"
      ]
    },
    {
      "cell_type": "markdown",
      "metadata": {
        "id": "8OsZn16bVz08"
      },
      "source": [
        "ОДНА РАБОТА ПО БЛОГАМ, РЕКЛАМЕ и ЭКОНОМИКЕ ЗА ГОД!!!"
      ]
    },
    {
      "cell_type": "code",
      "execution_count": null,
      "metadata": {
        "ExecuteTime": {
          "end_time": "2022-02-06T01:17:51.563791Z",
          "start_time": "2022-02-06T01:17:51.550801Z"
        },
        "id": "rMx6rZxTVz09",
        "outputId": "b5575c17-068e-4467-9492-d11af40dc409"
      },
      "outputs": [
        {
          "data": {
            "text/plain": [
              "Александр Войтюк       323\n",
              "Михаил Подрезов        271\n",
              "Василиса Чернявцева    255\n",
              "Сергей Коленов         236\n",
              "Григорий Копиев        170\n",
              "                      ... \n",
              "Илья Гриднев             1\n",
              "Илья Беликов             1\n",
              "Вера Мухина              1\n",
              "Мухина Вера              1\n",
              "Алекснадр Войтюк         1\n",
              "Name: Author, Length: 74, dtype: int64"
            ]
          },
          "execution_count": 176,
          "metadata": {},
          "output_type": "execute_result"
        }
      ],
      "source": [
        "final_df['Author'].value_counts()"
      ]
    },
    {
      "cell_type": "markdown",
      "metadata": {
        "id": "PPRJkSUTVz09"
      },
      "source": [
        "There are typos in names (Алекснадр Войтюк) and there are alot of authors 74!\n",
        "Top author published an article almost once a day with ~35 'weekend' days! (An actual year has 3x times more weekend days)"
      ]
    },
    {
      "cell_type": "code",
      "execution_count": null,
      "metadata": {
        "id": "O7lggQ8mVz09"
      },
      "outputs": [],
      "source": [
        "#final_df = pd.read_csv('Nplus1_full.csv')\n",
        "#final_df.head()"
      ]
    },
    {
      "cell_type": "markdown",
      "metadata": {
        "id": "D5s4stPkVz09"
      },
      "source": [
        "# NLP "
      ]
    },
    {
      "cell_type": "markdown",
      "metadata": {
        "id": "QJ2jhwD2Vz09"
      },
      "source": [
        "## Prep"
      ]
    },
    {
      "cell_type": "code",
      "execution_count": null,
      "metadata": {
        "ExecuteTime": {
          "end_time": "2022-02-06T01:19:51.604937Z",
          "start_time": "2022-02-06T01:19:51.589948Z"
        },
        "id": "3Eu4IQavVz09"
      },
      "outputs": [],
      "source": [
        "names_articles = final_df['name']\n",
        "data_articles = final_df['Article']\n",
        "diffy= final_df['difficulty']"
      ]
    },
    {
      "cell_type": "code",
      "execution_count": null,
      "metadata": {
        "ExecuteTime": {
          "end_time": "2022-02-06T01:19:52.643747Z",
          "start_time": "2022-02-06T01:19:52.629756Z"
        },
        "id": "Pqay8BThVz0-"
      },
      "outputs": [],
      "source": [
        "names_articles=[str(x) for x in names_articles]\n",
        "data_articles=[str(x) for x in data_articles]\n",
        "lenin=[len(x) for x in data_articles]\n",
        "lenin_names=[len(x) for x in names_articles]\n",
        "##search for the smallest article\n",
        "import numpy as np\n",
        "print(min(lenin))\n",
        "aa=np.array(lenin)\n",
        "print(np.where(aa == aa.min()))\n",
        "print(data_articles[764])\n",
        "\n",
        "print(min(lenin_names))\n",
        "aa1=np.array(lenin_names)\n",
        "print(np.where(aa == aa.min()))\n",
        "print(names_articles[763])"
      ]
    },
    {
      "cell_type": "code",
      "execution_count": null,
      "metadata": {
        "ExecuteTime": {
          "end_time": "2022-02-06T01:20:22.531494Z",
          "start_time": "2022-02-06T01:20:22.525499Z"
        },
        "id": "Iy6Vy0W2Vz0-"
      },
      "outputs": [],
      "source": [
        "import string # библиотека для работы со строками\n",
        "import nltk   # Natural Language Toolkit"
      ]
    },
    {
      "cell_type": "code",
      "execution_count": null,
      "metadata": {
        "ExecuteTime": {
          "end_time": "2022-02-06T01:20:25.531995Z",
          "start_time": "2022-02-06T01:20:24.325876Z"
        },
        "id": "ls8MeC9EVz0-",
        "outputId": "d802cc9e-4d7a-4e9b-dc7d-e8d86edfa5e0"
      },
      "outputs": [
        {
          "name": "stderr",
          "output_type": "stream",
          "text": [
            "[nltk_data] Downloading package stopwords to\n",
            "[nltk_data]     C:\\Users\\Pablo\\AppData\\Roaming\\nltk_data...\n",
            "[nltk_data]   Package stopwords is already up-to-date!\n"
          ]
        },
        {
          "data": {
            "text/plain": [
              "['и', 'в', 'во']"
            ]
          },
          "execution_count": 192,
          "metadata": {},
          "output_type": "execute_result"
        }
      ],
      "source": [
        "# загружаем список стоп-слов для русского\n",
        "nltk.download('stopwords')\n",
        "stop_words = nltk.corpus.stopwords.words('russian')\n",
        "\n",
        "# примеры стоп-слов\n",
        "stop_words[:3]"
      ]
    },
    {
      "cell_type": "code",
      "execution_count": null,
      "metadata": {
        "ExecuteTime": {
          "end_time": "2022-02-06T01:20:27.399375Z",
          "start_time": "2022-02-06T01:20:27.381386Z"
        },
        "id": "5i0ZDGvQVz0-"
      },
      "outputs": [],
      "source": [
        "# знаки препинания\n",
        "my_string_punctuation=string.punctuation+'«'+'»'"
      ]
    },
    {
      "cell_type": "code",
      "execution_count": null,
      "metadata": {
        "ExecuteTime": {
          "end_time": "2022-02-06T01:20:28.870483Z",
          "start_time": "2022-02-06T01:20:28.857491Z"
        },
        "id": "KCsLDYUwVz0-",
        "outputId": "6e78d434-7aa2-46c9-8fff-26049f596881"
      },
      "outputs": [
        {
          "data": {
            "text/plain": [
              "'!\"#$%&\\'()*+,-./:;<=>?@[\\\\]^_`{|}~«»'"
            ]
          },
          "execution_count": 194,
          "metadata": {},
          "output_type": "execute_result"
        }
      ],
      "source": [
        "my_string_punctuation"
      ]
    },
    {
      "cell_type": "code",
      "execution_count": null,
      "metadata": {
        "ExecuteTime": {
          "end_time": "2022-02-06T01:20:30.889558Z",
          "start_time": "2022-02-06T01:20:30.877567Z"
        },
        "id": "Yu7EB2FrVz0-"
      },
      "outputs": [],
      "source": [
        "word_tokenizer = nltk.WordPunctTokenizer()"
      ]
    },
    {
      "cell_type": "code",
      "execution_count": null,
      "metadata": {
        "ExecuteTime": {
          "end_time": "2022-02-06T01:20:33.045425Z",
          "start_time": "2022-02-06T01:20:33.037439Z"
        },
        "id": "vkb2_VocVz0_"
      },
      "outputs": [],
      "source": [
        "dates = [str(x) for x in np.arange(1000, 2022)]\n",
        "def process_data(data):\n",
        "    texts = []\n",
        "    targets = []\n",
        "    \n",
        "    # поочередно проходим по всем новостям в списке\n",
        "    for item in data:\n",
        "               \n",
        "        text_lower = item.lower() # приводим все слова к нижнему регистру\n",
        "        tokens     = word_tokenizer.tokenize(text_lower) #разбиваем екст на слова\n",
        "        \n",
        "        # удаляем пунктуацию и стоп-слова\n",
        "        tokens = [word for word in tokens if (word not in my_string_punctuation and word not in stop_words and word not in dates)]\n",
        "        \n",
        "        texts.append(tokens) # добавляем в предобработанный список\n",
        "    \n",
        "    return texts"
      ]
    },
    {
      "cell_type": "code",
      "execution_count": null,
      "metadata": {
        "ExecuteTime": {
          "end_time": "2022-02-06T01:20:48.682621Z",
          "start_time": "2022-02-06T01:20:34.837736Z"
        },
        "id": "baQ0C-IzVz0_"
      },
      "outputs": [],
      "source": [
        "# запускаем нашу предобработку\n",
        "texts = process_data(data_articles)\n",
        "names = process_data(names_articles)"
      ]
    },
    {
      "cell_type": "code",
      "execution_count": null,
      "metadata": {
        "ExecuteTime": {
          "end_time": "2022-02-06T01:20:50.079654Z",
          "start_time": "2022-02-06T01:20:50.065663Z"
        },
        "id": "V8n9WT6SVz0_",
        "outputId": "fa68bf35-59b0-4dd4-eec0-84501a36d34c"
      },
      "outputs": [
        {
          "name": "stdout",
          "output_type": "stream",
          "text": [
            "Name:  ['военные', 'раскрыли', 'характеристики', 'модернизированного', 'комплекса', 'ярс']\n",
            "Text:  ['министерство', 'обороны', 'россии', 'впервые', 'обнародовало', 'характеристики', 'модернизированного', 'стратегического', 'ракетного', 'комплекса', 'рс', '24', 'ярс', '».', 'сообщает', 'риа', 'новости', 'характеристики', 'комплекса', 'обнародованы', 'время', 'единого', 'дня', 'приемки', 'военной', 'техники', 'данным', 'министерства', 'обороны', 'россии', 'ярс', 'снаряжается', 'твердотопливными', 'баллистическими', 'ракетами', 'калибра', '1', '86', 'метра', 'длиной', '17', '8', 'метра', 'стартовая', 'масса', 'носителя', 'составляет', '46', 'тонн', 'массе', 'полезной', 'нагрузки', '1', '25', 'тонны', 'комплекс', 'поражать', 'цели', 'дальности', '10', 'тысяч', 'километров', 'настоящее', 'время', 'ракетных', 'войсках', 'стратегического', 'назначения', 'россии', 'опытно', 'боевом', 'дежурстве', 'комплексы', 'ярс', 'стоят', 'йошкар', 'оле', 'барнауле', 'перспективе', 'ракетные', 'дивизии', 'планируется', 'перевооружить', 'модернизированные', 'ракетные', 'комплексы', 'мобильного', 'шахтного', 'базирования', 'стратегический', 'ракетный', 'комплекс', 'ярс', 'встал', 'вооружение', 'россии', 'году', 'мобильная', 'установка', 'оснащена', 'трехступенчатой', 'твердотопливной', 'баллистической', 'ракетой', 'стартовой', 'массой', '46', 'тонн', 'носитель', 'нести', '3', '4', 'боевых', 'блоков', 'мощностью', '300', '500', 'килотонн', '6', 'блоков', 'мощностью', '150', 'килотонн', 'каждый']\n",
            "Difficulty:  3.1\n"
          ]
        }
      ],
      "source": [
        "# example\n",
        "i = 1\n",
        "print(\"Name: \", names[i])\n",
        "print(\"Text: \", texts[i])\n",
        "print(\"Difficulty: \", diffy[i])"
      ]
    },
    {
      "cell_type": "code",
      "execution_count": null,
      "metadata": {
        "ExecuteTime": {
          "end_time": "2022-02-06T01:21:00.969991Z",
          "start_time": "2022-02-06T01:21:00.653249Z"
        },
        "id": "pmxBMJ1GVz0_"
      },
      "outputs": [],
      "source": [
        "# загружаем библиотеку для лемматизации\n",
        "import pymorphy2 # Морфологический анализатор\n",
        "\n",
        "# инициализируем лемматизатор :)\n",
        "morph = pymorphy2.MorphAnalyzer()"
      ]
    },
    {
      "cell_type": "code",
      "execution_count": null,
      "metadata": {
        "ExecuteTime": {
          "end_time": "2022-02-06T01:24:26.752455Z",
          "start_time": "2022-02-06T01:21:25.566983Z"
        },
        "colab": {
          "referenced_widgets": [
            "2567bce3902d4fd489c65c2006d5a9fb",
            "fc67537effdb41f981990a9baae3ef1f"
          ]
        },
        "id": "o8Cs3FEjVz0_",
        "outputId": "496512c0-17d1-47c3-b64c-5a8b725fb92c"
      },
      "outputs": [
        {
          "name": "stderr",
          "output_type": "stream",
          "text": [
            "C:\\Users\\Pablo\\AppData\\Local\\Temp/ipykernel_16284/1696498236.py:2: TqdmDeprecationWarning: This function will be removed in tqdm==5.0.0\n",
            "Please use `tqdm.notebook.tqdm` instead of `tqdm.tqdm_notebook`\n",
            "  for i in tqdm_notebook(range(len(texts))):           # tqdm_notebook создает шкалу прогресса :)\n"
          ]
        },
        {
          "data": {
            "application/vnd.jupyter.widget-view+json": {
              "model_id": "2567bce3902d4fd489c65c2006d5a9fb",
              "version_major": 2,
              "version_minor": 0
            },
            "text/plain": [
              "  0%|          | 0/2371 [00:00<?, ?it/s]"
            ]
          },
          "metadata": {},
          "output_type": "display_data"
        },
        {
          "name": "stderr",
          "output_type": "stream",
          "text": [
            "C:\\Users\\Pablo\\AppData\\Local\\Temp/ipykernel_16284/1696498236.py:6: TqdmDeprecationWarning: This function will be removed in tqdm==5.0.0\n",
            "Please use `tqdm.notebook.tqdm` instead of `tqdm.tqdm_notebook`\n",
            "  for i in tqdm_notebook(range(len(names))):           # tqdm_notebook создает шкалу прогресса :)\n"
          ]
        },
        {
          "data": {
            "application/vnd.jupyter.widget-view+json": {
              "model_id": "fc67537effdb41f981990a9baae3ef1f",
              "version_major": 2,
              "version_minor": 0
            },
            "text/plain": [
              "  0%|          | 0/2371 [00:00<?, ?it/s]"
            ]
          },
          "metadata": {},
          "output_type": "display_data"
        }
      ],
      "source": [
        "# применяем лемматизацию ко всем текстам\n",
        "for i in tqdm_notebook(range(len(texts))):           # tqdm_notebook создает шкалу прогресса :)\n",
        "    text_lemmatized = [morph.parse(x)[0].normal_form for x in texts[i]] # применяем лемматизацию для каждого слова в тексте\n",
        "    texts[i] = ' '.join(text_lemmatized)                # объединяем все слова в одну строку через пробел\n",
        "    \n",
        "for i in tqdm_notebook(range(len(names))):           # tqdm_notebook создает шкалу прогресса :)\n",
        "    text_lemmatized = [morph.parse(x)[0].normal_form for x in names[i]] # применяем лемматизацию для каждого слова в тексте\n",
        "    names[i] = ' '.join(text_lemmatized)                # объединяем все слова в одну строку через пробел"
      ]
    },
    {
      "cell_type": "code",
      "execution_count": null,
      "metadata": {
        "ExecuteTime": {
          "end_time": "2022-02-06T01:24:29.482699Z",
          "start_time": "2022-02-06T01:24:29.467710Z"
        },
        "id": "csLjvVoOVz1A",
        "outputId": "58bc68cc-eafe-4712-8fd6-9ca656d7d477"
      },
      "outputs": [
        {
          "name": "stdout",
          "output_type": "stream",
          "text": [
            "Name:  военный раскрыть характеристика модернизированный комплекс ярс\n",
            "Text:  министерство оборона россия впервые обнародовать характеристика модернизированный стратегический ракетный комплекс рс 24 ярс ». сообщать риа новость характеристика комплекс обнародовать время единый день приёмка военный техника данные министерство оборона россия ярс снаряжаться твердотопливный баллистический ракета калибр 1 86 метр длина 17 8 метр стартовый масса носитель составлять 46 тонна масса полезный нагрузка 1 25 тонна комплекс поражать цель дальность 10 тысяча километр настоящий время ракетный войско стратегический назначение россия опытно боевой дежурство комплекс ярс стоять йошкара оля барнаул перспектива ракетный дивизия планироваться перевооружить модернизированный ракетный комплекс мобильный шахтный базирование стратегический ракетный комплекс ярс встать вооружение россия год мобильный установка оснастить трехступенчатый твердотопливный баллистический ракета стартовый масса 46 тонна носитель нести 3 4 боевой блок мощность 300 500 килотонна 6 блок мощность 150 килотонна каждый\n",
            "Difficulty:  3.1\n"
          ]
        }
      ],
      "source": [
        "# example\n",
        "i = 1\n",
        "print(\"Name: \", names[i])\n",
        "print(\"Text: \", texts[i])\n",
        "print(\"Difficulty: \", diffy[i])"
      ]
    },
    {
      "cell_type": "code",
      "execution_count": null,
      "metadata": {
        "id": "ytnA7W9cVz1A"
      },
      "outputs": [],
      "source": [
        "final_df.drop(columns=['name','Article'])"
      ]
    },
    {
      "cell_type": "code",
      "execution_count": null,
      "metadata": {
        "ExecuteTime": {
          "end_time": "2022-02-06T01:24:54.709909Z",
          "start_time": "2022-02-06T01:24:54.692926Z"
        },
        "id": "HiooG7WpVz1A"
      },
      "outputs": [],
      "source": [
        "final_df['name']=names\n",
        "final_df['Article']=texts"
      ]
    },
    {
      "cell_type": "code",
      "execution_count": null,
      "metadata": {
        "ExecuteTime": {
          "end_time": "2022-02-06T01:25:00.628091Z",
          "start_time": "2022-02-06T01:25:00.604106Z"
        },
        "id": "gMGQ37sJVz1A",
        "outputId": "4730c1e8-42ec-4b06-bf76-e42f45700c06"
      },
      "outputs": [
        {
          "data": {
            "text/html": [
              "<div>\n",
              "<style scoped>\n",
              "    .dataframe tbody tr th:only-of-type {\n",
              "        vertical-align: middle;\n",
              "    }\n",
              "\n",
              "    .dataframe tbody tr th {\n",
              "        vertical-align: top;\n",
              "    }\n",
              "\n",
              "    .dataframe thead th {\n",
              "        text-align: right;\n",
              "    }\n",
              "</style>\n",
              "<table border=\"1\" class=\"dataframe\">\n",
              "  <thead>\n",
              "    <tr style=\"text-align: right;\">\n",
              "      <th></th>\n",
              "      <th>Unnamed: 0</th>\n",
              "      <th>date_added</th>\n",
              "      <th>rubric</th>\n",
              "      <th>difficulty</th>\n",
              "      <th>Author</th>\n",
              "      <th>seconds</th>\n",
              "      <th>name</th>\n",
              "      <th>Article</th>\n",
              "      <th>num_href</th>\n",
              "      <th>num_abzats</th>\n",
              "      <th>num_img</th>\n",
              "    </tr>\n",
              "  </thead>\n",
              "  <tbody>\n",
              "    <tr>\n",
              "      <th>0</th>\n",
              "      <td>0</td>\n",
              "      <td>2021.01.30</td>\n",
              "      <td>Астрономия</td>\n",
              "      <td>1.9</td>\n",
              "      <td>Александр Войтюк</td>\n",
              "      <td>60720.0</td>\n",
              "      <td>китайский космический гамма монитор увидеть св...</td>\n",
              "      <td>спутник китайский гамма монитор небо gecam зар...</td>\n",
              "      <td>3</td>\n",
              "      <td>5</td>\n",
              "      <td>3</td>\n",
              "    </tr>\n",
              "    <tr>\n",
              "      <th>1</th>\n",
              "      <td>1</td>\n",
              "      <td>2021.01.30</td>\n",
              "      <td>Оружие</td>\n",
              "      <td>3.1</td>\n",
              "      <td>Василий Сычёв</td>\n",
              "      <td>57360.0</td>\n",
              "      <td>военный раскрыть характеристика модернизирован...</td>\n",
              "      <td>министерство оборона россия впервые обнародова...</td>\n",
              "      <td>1</td>\n",
              "      <td>4</td>\n",
              "      <td>1</td>\n",
              "    </tr>\n",
              "    <tr>\n",
              "      <th>2</th>\n",
              "      <td>2</td>\n",
              "      <td>2021.01.30</td>\n",
              "      <td>Оружие</td>\n",
              "      <td>3.1</td>\n",
              "      <td>Василий Сычёв</td>\n",
              "      <td>53400.0</td>\n",
              "      <td>грузин заняться разработка ударный беспилотник</td>\n",
              "      <td>грузинский предприятие тбилавиамшень заняться ...</td>\n",
              "      <td>3</td>\n",
              "      <td>4</td>\n",
              "      <td>1</td>\n",
              "    </tr>\n",
              "    <tr>\n",
              "      <th>3</th>\n",
              "      <td>3</td>\n",
              "      <td>2021.01.30</td>\n",
              "      <td>Археология</td>\n",
              "      <td>1.9</td>\n",
              "      <td>Винера Андреева</td>\n",
              "      <td>49440.0</td>\n",
              "      <td>амфора затонуть корабль рассказать торговый ма...</td>\n",
              "      <td>греческий археолог исследовать остаток античны...</td>\n",
              "      <td>7</td>\n",
              "      <td>11</td>\n",
              "      <td>5</td>\n",
              "    </tr>\n",
              "    <tr>\n",
              "      <th>4</th>\n",
              "      <td>4</td>\n",
              "      <td>2021.01.30</td>\n",
              "      <td>Оружие</td>\n",
              "      <td>3.1</td>\n",
              "      <td>Василий Сычёв</td>\n",
              "      <td>43980.0</td>\n",
              "      <td>испытание гиперзвуковой ракета циркон завершит...</td>\n",
              "      <td>государственный испытание перспективный гиперз...</td>\n",
              "      <td>3</td>\n",
              "      <td>4</td>\n",
              "      <td>1</td>\n",
              "    </tr>\n",
              "  </tbody>\n",
              "</table>\n",
              "</div>"
            ],
            "text/plain": [
              "   Unnamed: 0  date_added      rubric  difficulty            Author  seconds  \\\n",
              "0           0  2021.01.30  Астрономия         1.9  Александр Войтюк  60720.0   \n",
              "1           1  2021.01.30      Оружие         3.1     Василий Сычёв  57360.0   \n",
              "2           2  2021.01.30      Оружие         3.1     Василий Сычёв  53400.0   \n",
              "3           3  2021.01.30  Археология         1.9   Винера Андреева  49440.0   \n",
              "4           4  2021.01.30      Оружие         3.1     Василий Сычёв  43980.0   \n",
              "\n",
              "                                                name  \\\n",
              "0  китайский космический гамма монитор увидеть св...   \n",
              "1  военный раскрыть характеристика модернизирован...   \n",
              "2     грузин заняться разработка ударный беспилотник   \n",
              "3  амфора затонуть корабль рассказать торговый ма...   \n",
              "4  испытание гиперзвуковой ракета циркон завершит...   \n",
              "\n",
              "                                             Article  num_href  num_abzats  \\\n",
              "0  спутник китайский гамма монитор небо gecam зар...         3           5   \n",
              "1  министерство оборона россия впервые обнародова...         1           4   \n",
              "2  грузинский предприятие тбилавиамшень заняться ...         3           4   \n",
              "3  греческий археолог исследовать остаток античны...         7          11   \n",
              "4  государственный испытание перспективный гиперз...         3           4   \n",
              "\n",
              "   num_img  \n",
              "0        3  \n",
              "1        1  \n",
              "2        1  \n",
              "3        5  \n",
              "4        1  "
            ]
          },
          "execution_count": 204,
          "metadata": {},
          "output_type": "execute_result"
        }
      ],
      "source": [
        "final_df.head()"
      ]
    },
    {
      "cell_type": "code",
      "execution_count": null,
      "metadata": {
        "ExecuteTime": {
          "end_time": "2022-02-06T01:25:47.088523Z",
          "start_time": "2022-02-06T01:25:46.819218Z"
        },
        "id": "NzDPfixXVz1A"
      },
      "outputs": [],
      "source": [
        "#final_df.to_csv('Nplus1_full_lemma_dropnan.csv')"
      ]
    },
    {
      "cell_type": "code",
      "execution_count": null,
      "metadata": {
        "ExecuteTime": {
          "end_time": "2022-02-06T02:59:14.266276Z",
          "start_time": "2022-02-06T02:59:14.003421Z"
        },
        "id": "Zeib94QqVz1A"
      },
      "outputs": [],
      "source": [
        "final_df = pd.read_csv('Nplus1_full_lemma_dropnan.csv')"
      ]
    },
    {
      "cell_type": "markdown",
      "metadata": {
        "id": "ujWC9c0lVz1A"
      },
      "source": [
        "# tf-idf and model training"
      ]
    },
    {
      "cell_type": "code",
      "execution_count": null,
      "metadata": {
        "ExecuteTime": {
          "end_time": "2022-02-06T02:59:21.113133Z",
          "start_time": "2022-02-06T02:59:20.380095Z"
        },
        "id": "T4Xhb-dtVz1A"
      },
      "outputs": [],
      "source": [
        "from sklearn.model_selection import train_test_split\n",
        "df_train,df_test = train_test_split(final_df, test_size=0.2, random_state=55)\n",
        "\n",
        "txt_train=df_train['Article']\n",
        "txt_test=df_test['Article']\n",
        "\n",
        "diffy_train=df_train['difficulty']\n",
        "diffy_test=df_test['difficulty']"
      ]
    },
    {
      "cell_type": "code",
      "execution_count": null,
      "metadata": {
        "ExecuteTime": {
          "end_time": "2022-02-06T04:50:49.319118Z",
          "start_time": "2022-02-06T04:50:48.586569Z"
        },
        "id": "Z1Mc3jh7Vz1B",
        "outputId": "5d93a27b-5bdf-4f8a-ff88-2822ac2bf870"
      },
      "outputs": [
        {
          "data": {
            "text/plain": [
              "['автор',\n",
              " 'вид',\n",
              " 'время',\n",
              " 'год',\n",
              " 'группа',\n",
              " 'два',\n",
              " 'другой',\n",
              " 'животное',\n",
              " 'использовать',\n",
              " 'испытание',\n",
              " 'исследование',\n",
              " 'исследователь',\n",
              " 'компания',\n",
              " 'который',\n",
              " 'кроме',\n",
              " 'масса',\n",
              " 'метр',\n",
              " 'мочь',\n",
              " 'например',\n",
              " 'находиться']"
            ]
          },
          "execution_count": 89,
          "metadata": {},
          "output_type": "execute_result"
        }
      ],
      "source": [
        "from sklearn.feature_extraction.text import TfidfVectorizer\n",
        "# Fit TF-IDF on train texts\n",
        "vectorizer_text = TfidfVectorizer(max_features = 50) # топ 50 слов\n",
        "vectorizer_text.fit(txt_train)\n",
        "# Топ-10 слов\n",
        "vectorizer_text.get_feature_names()[:20]"
      ]
    },
    {
      "cell_type": "code",
      "execution_count": null,
      "metadata": {
        "ExecuteTime": {
          "end_time": "2022-02-06T04:51:15.510929Z",
          "start_time": "2022-02-06T04:51:14.642465Z"
        },
        "id": "1Grw1UdyVz1B"
      },
      "outputs": [],
      "source": [
        "# Обучаем TF-IDF на train, а затем применяем к train и test\n",
        "train_X = vectorizer_text.fit_transform(txt_train)\n",
        "test_X  = vectorizer_text.transform(txt_test)"
      ]
    },
    {
      "cell_type": "code",
      "execution_count": null,
      "metadata": {
        "ExecuteTime": {
          "end_time": "2022-02-06T04:51:17.594376Z",
          "start_time": "2022-02-06T04:51:17.571382Z"
        },
        "id": "tAYZqAgGVz1B"
      },
      "outputs": [],
      "source": [
        "from sklearn.linear_model import LinearRegression\n",
        "regressor = LinearRegression()\n",
        "regressor.fit(train_X, diffy_train)\n",
        "Y_pred_train = regressor.predict(train_X)\n",
        "Y_pred_test = regressor.predict(test_X)\n"
      ]
    },
    {
      "cell_type": "markdown",
      "metadata": {
        "ExecuteTime": {
          "end_time": "2022-02-06T05:06:32.313299Z",
          "start_time": "2022-02-06T05:06:32.307304Z"
        },
        "id": "gBxoi6JHVz1B"
      },
      "source": [
        "# Results"
      ]
    },
    {
      "cell_type": "code",
      "execution_count": null,
      "metadata": {
        "ExecuteTime": {
          "end_time": "2022-02-06T02:24:54.063221Z",
          "start_time": "2022-02-06T02:24:53.694185Z"
        },
        "id": "dbfx1W0wVz1B",
        "outputId": "e75b80fa-6f5b-4e95-a605-8e7244597452"
      },
      "outputs": [
        {
          "data": {
            "text/plain": [
              "Text(0.5, 1.0, 'Predicted Difficulty distribution (Only 50 words)')"
            ]
          },
          "execution_count": 267,
          "metadata": {},
          "output_type": "execute_result"
        },
        {
          "data": {
            "image/png": "[encoded data removed]",
            "text/plain": [
              "<Figure size 1080x360 with 2 Axes>"
            ]
          },
          "metadata": {
            "needs_background": "light"
          },
          "output_type": "display_data"
        }
      ],
      "source": [
        "plt.figure(figsize=(15,5))\n",
        "\n",
        "#plot 1:\n",
        "plt.subplot(1, 2, 1)\n",
        "plt.hist(diffy_test, bins=20)\n",
        "plt.xlabel('difficulty')\n",
        "plt.ylabel('num of entries')\n",
        "plt.title('Actual Difficulty distribution')\n",
        "\n",
        "#plot 2:\n",
        "plt.subplot(1, 2, 2)\n",
        "plt.hist(Y_pred_test, bins=20)\n",
        "plt.xlabel('difficulty')\n",
        "plt.ylabel('num of articles')\n",
        "plt.title('Predicted Difficulty distribution (Only 50 words)')\n"
      ]
    },
    {
      "cell_type": "code",
      "execution_count": null,
      "metadata": {
        "ExecuteTime": {
          "end_time": "2022-02-06T04:51:18.924834Z",
          "start_time": "2022-02-06T04:51:18.905846Z"
        },
        "id": "6nxxDOXxVz1C",
        "outputId": "84c31725-6aa7-4aa6-8bb1-e1029b03b5ff"
      },
      "outputs": [
        {
          "name": "stdout",
          "output_type": "stream",
          "text": [
            "Results based on 50 words\n",
            "Test MSE = 1.1876\n",
            "Train MSE = 1.1524\n",
            "Test based on guess MSE = 12.5253\n"
          ]
        }
      ],
      "source": [
        "from sklearn.metrics import mean_squared_error\n",
        "print('Results based on 50 words')\n",
        "print(\"Test MSE = %.4f\" % mean_squared_error(diffy_test, Y_pred_test))\n",
        "print(\"Train MSE = %.4f\" % mean_squared_error(diffy_train, Y_pred_train))\n",
        "chance=np.ndarray(len(diffy_test))\n",
        "for i in range(len(diffy_test)):\n",
        "    chance[i]=random.randrange(1, 99, 1)/10.0\n",
        "print(\"Test based on guess MSE = %.4f\" % mean_squared_error(diffy_test, chance))"
      ]
    },
    {
      "cell_type": "markdown",
      "metadata": {
        "id": "SebeinUnVz1C"
      },
      "source": [
        "Prediction with only 50 words in the model provides us with a good MSE. \n",
        "The shape of the predicted distribution looks similar to the actual one.\n",
        "The result is much better than any result with a random chance!\n",
        "Still there's much to improve. It could be done simply by increasing the number of words.\n"
      ]
    },
    {
      "cell_type": "code",
      "execution_count": null,
      "metadata": {
        "ExecuteTime": {
          "end_time": "2022-02-06T02:25:22.427249Z",
          "start_time": "2022-02-06T02:25:21.893049Z"
        },
        "id": "bY4srkxsVz1C",
        "outputId": "1a7b4805-8268-4a4e-b550-b8fafdbfafd8"
      },
      "outputs": [
        {
          "data": {
            "text/plain": [
              "Text(0.5, 1.0, 'Predicted Difficulty distribution (500 words)')"
            ]
          },
          "execution_count": 271,
          "metadata": {},
          "output_type": "execute_result"
        },
        {
          "data": {
            "image/png": "[encoded data removed]",
            "text/plain": [
              "<Figure size 1080x360 with 2 Axes>"
            ]
          },
          "metadata": {
            "needs_background": "light"
          },
          "output_type": "display_data"
        }
      ],
      "source": [
        "plt.figure(figsize=(15,5))\n",
        "\n",
        "#plot 1:\n",
        "plt.subplot(1, 2, 1)\n",
        "plt.hist(diffy_test, bins=20)\n",
        "plt.xlabel('difficulty')\n",
        "plt.ylabel('num of entries')\n",
        "plt.title('Actual Difficulty distribution')\n",
        "\n",
        "#plot 2:\n",
        "plt.subplot(1, 2, 2)\n",
        "plt.hist(Y_pred_test, bins=20)\n",
        "plt.xlabel('difficulty')\n",
        "plt.ylabel('num of articles')\n",
        "plt.title('Predicted Difficulty distribution (500 words)')\n"
      ]
    },
    {
      "cell_type": "code",
      "execution_count": null,
      "metadata": {
        "ExecuteTime": {
          "end_time": "2022-02-06T04:48:18.830068Z",
          "start_time": "2022-02-06T04:48:18.820073Z"
        },
        "id": "1ZjVOx4LVz1C",
        "outputId": "fd6d12c2-5d16-4a73-8b1f-f5d930918557"
      },
      "outputs": [
        {
          "name": "stdout",
          "output_type": "stream",
          "text": [
            "Results based on 500 words\n",
            "Test MSE = 0.9306\n",
            "Train MSE = 0.4597\n",
            "Test based on guess MSE = 13.1805\n"
          ]
        }
      ],
      "source": [
        "from sklearn.metrics import mean_squared_error\n",
        "print('Results based on 500 words')\n",
        "print(\"Test MSE = %.4f\" % mean_squared_error(diffy_test, Y_pred_test))\n",
        "print(\"Train MSE = %.4f\" % mean_squared_error(diffy_train, Y_pred_train))\n",
        "chance=np.ndarray(len(diffy_test))\n",
        "for i in range(len(diffy_test)):\n",
        "    chance[i]=random.randrange(1, 99, 1)/10.0\n",
        "print(\"Test based on guess MSE = %.4f\" % mean_squared_error(diffy_test, chance))\n"
      ]
    },
    {
      "cell_type": "markdown",
      "metadata": {
        "id": "XxyqoObIVz1C"
      },
      "source": [
        "Considering 500 top words in the analysis brings MSE below 1.0 and the distribution look much better in comparison to the actual distribution.\n",
        "\n",
        "My initial goal was to combine data from TF-IDF with an additional article data. But i couldn't figure out how to create a combined dataset... And maybe apply some importance weights for individual columns.\n",
        "\n",
        "It remains TBD."
      ]
    },
    {
      "cell_type": "code",
      "execution_count": null,
      "metadata": {
        "id": "vRIAoOvNVz1C"
      },
      "outputs": [],
      "source": [
        ""
      ]
    }
  ],
  "metadata": {
    "colab": {
      "name": "DodonovPA_HW_5_1.ipynb",
      "provenance": []
    },
    "kernelspec": {
      "display_name": "Python 3 (ipykernel)",
      "language": "python",
      "name": "python3"
    },
    "language_info": {
      "codemirror_mode": {
        "name": "ipython",
        "version": 3
      },
      "file_extension": ".py",
      "mimetype": "text/x-python",
      "name": "python",
      "nbconvert_exporter": "python",
      "pygments_lexer": "ipython3",
      "version": "3.9.7"
    },
    "toc": {
      "base_numbering": 1,
      "nav_menu": {},
      "number_sections": true,
      "sideBar": true,
      "skip_h1_title": false,
      "title_cell": "Table of Contents",
      "title_sidebar": "Contents",
      "toc_cell": false,
      "toc_position": {},
      "toc_section_display": true,
      "toc_window_display": false
    },
    "varInspector": {
      "cols": {
        "lenName": 16,
        "lenType": 16,
        "lenVar": 40
      },
      "kernels_config": {
        "python": {
          "delete_cmd_postfix": "",
          "delete_cmd_prefix": "del ",
          "library": "var_list.py",
          "varRefreshCmd": "print(var_dic_list())"
        },
        "r": {
          "delete_cmd_postfix": ") ",
          "delete_cmd_prefix": "rm(",
          "library": "var_list.r",
          "varRefreshCmd": "cat(var_dic_list()) "
        }
      },
      "oldHeight": 374.844,
      "position": {
        "height": "396.844px",
        "left": "906px",
        "right": "20px",
        "top": "120px",
        "width": "354px"
      },
      "types_to_exclude": [
        "module",
        "function",
        "builtin_function_or_method",
        "instance",
        "_Feature"
      ],
      "varInspector_section_display": "block",
      "window_display": false
    },
    "widgets": {
      "application/vnd.jupyter.widget-state+json": {
        "134ab63f5e9247ec834991571adf781c": {
          "model_module": "@jupyter-widgets/base",
          "model_module_version": "1.2.0",
          "model_name": "LayoutModel",
          "state": {
            "_model_module": "@jupyter-widgets/base",
            "_model_module_version": "1.2.0",
            "_model_name": "LayoutModel",
            "_view_count": null,
            "_view_module": "@jupyter-widgets/base",
            "_view_module_version": "1.2.0",
            "_view_name": "LayoutView",
            "align_content": null,
            "align_items": null,
            "align_self": null,
            "border": null,
            "bottom": null,
            "display": null,
            "flex": null,
            "flex_flow": null,
            "grid_area": null,
            "grid_auto_columns": null,
            "grid_auto_flow": null,
            "grid_auto_rows": null,
            "grid_column": null,
            "grid_gap": null,
            "grid_row": null,
            "grid_template_areas": null,
            "grid_template_columns": null,
            "grid_template_rows": null,
            "height": null,
            "justify_content": null,
            "justify_items": null,
            "left": null,
            "margin": null,
            "max_height": null,
            "max_width": null,
            "min_height": null,
            "min_width": null,
            "object_fit": null,
            "object_position": null,
            "order": null,
            "overflow": null,
            "overflow_x": null,
            "overflow_y": null,
            "padding": null,
            "right": null,
            "top": null,
            "visibility": null,
            "width": null
          }
        },
        "21d094eee7f845e89d889fa83876bacc": {
          "model_module": "@jupyter-widgets/controls",
          "model_module_version": "1.5.0",
          "model_name": "FloatProgressModel",
          "state": {
            "_dom_classes": [],
            "_model_module": "@jupyter-widgets/controls",
            "_model_module_version": "1.5.0",
            "_model_name": "FloatProgressModel",
            "_view_count": null,
            "_view_module": "@jupyter-widgets/controls",
            "_view_module_version": "1.5.0",
            "_view_name": "ProgressView",
            "bar_style": "success",
            "description": "",
            "description_tooltip": null,
            "layout": "IPY_MODEL_93b7a092048f49d0adfdc8ce18746fc1",
            "max": 16,
            "min": 0,
            "orientation": "horizontal",
            "style": "IPY_MODEL_f7ee5c559df84e3d87de5b864d109d6f",
            "value": 16
          }
        },
        "6e83da8c9d78451c9971cc235155c8ad": {
          "model_module": "@jupyter-widgets/controls",
          "model_module_version": "1.5.0",
          "model_name": "HTMLModel",
          "state": {
            "_dom_classes": [],
            "_model_module": "@jupyter-widgets/controls",
            "_model_module_version": "1.5.0",
            "_model_name": "HTMLModel",
            "_view_count": null,
            "_view_module": "@jupyter-widgets/controls",
            "_view_module_version": "1.5.0",
            "_view_name": "HTMLView",
            "description": "",
            "description_tooltip": null,
            "layout": "IPY_MODEL_79d902fb1048423aaf460d130df54283",
            "placeholder": "​",
            "style": "IPY_MODEL_aa1be99265b540af9bd828c6dbbaf6f1",
            "value": "100%"
          }
        },
        "769ad8e01fb34910be6be05c99b651f1": {
          "model_module": "@jupyter-widgets/controls",
          "model_module_version": "1.5.0",
          "model_name": "DescriptionStyleModel",
          "state": {
            "_model_module": "@jupyter-widgets/controls",
            "_model_module_version": "1.5.0",
            "_model_name": "DescriptionStyleModel",
            "_view_count": null,
            "_view_module": "@jupyter-widgets/base",
            "_view_module_version": "1.2.0",
            "_view_name": "StyleView",
            "description_width": ""
          }
        },
        "79d902fb1048423aaf460d130df54283": {
          "model_module": "@jupyter-widgets/base",
          "model_module_version": "1.2.0",
          "model_name": "LayoutModel",
          "state": {
            "_model_module": "@jupyter-widgets/base",
            "_model_module_version": "1.2.0",
            "_model_name": "LayoutModel",
            "_view_count": null,
            "_view_module": "@jupyter-widgets/base",
            "_view_module_version": "1.2.0",
            "_view_name": "LayoutView",
            "align_content": null,
            "align_items": null,
            "align_self": null,
            "border": null,
            "bottom": null,
            "display": null,
            "flex": null,
            "flex_flow": null,
            "grid_area": null,
            "grid_auto_columns": null,
            "grid_auto_flow": null,
            "grid_auto_rows": null,
            "grid_column": null,
            "grid_gap": null,
            "grid_row": null,
            "grid_template_areas": null,
            "grid_template_columns": null,
            "grid_template_rows": null,
            "height": null,
            "justify_content": null,
            "justify_items": null,
            "left": null,
            "margin": null,
            "max_height": null,
            "max_width": null,
            "min_height": null,
            "min_width": null,
            "object_fit": null,
            "object_position": null,
            "order": null,
            "overflow": null,
            "overflow_x": null,
            "overflow_y": null,
            "padding": null,
            "right": null,
            "top": null,
            "visibility": null,
            "width": null
          }
        },
        "93b7a092048f49d0adfdc8ce18746fc1": {
          "model_module": "@jupyter-widgets/base",
          "model_module_version": "1.2.0",
          "model_name": "LayoutModel",
          "state": {
            "_model_module": "@jupyter-widgets/base",
            "_model_module_version": "1.2.0",
            "_model_name": "LayoutModel",
            "_view_count": null,
            "_view_module": "@jupyter-widgets/base",
            "_view_module_version": "1.2.0",
            "_view_name": "LayoutView",
            "align_content": null,
            "align_items": null,
            "align_self": null,
            "border": null,
            "bottom": null,
            "display": null,
            "flex": null,
            "flex_flow": null,
            "grid_area": null,
            "grid_auto_columns": null,
            "grid_auto_flow": null,
            "grid_auto_rows": null,
            "grid_column": null,
            "grid_gap": null,
            "grid_row": null,
            "grid_template_areas": null,
            "grid_template_columns": null,
            "grid_template_rows": null,
            "height": null,
            "justify_content": null,
            "justify_items": null,
            "left": null,
            "margin": null,
            "max_height": null,
            "max_width": null,
            "min_height": null,
            "min_width": null,
            "object_fit": null,
            "object_position": null,
            "order": null,
            "overflow": null,
            "overflow_x": null,
            "overflow_y": null,
            "padding": null,
            "right": null,
            "top": null,
            "visibility": null,
            "width": null
          }
        },
        "985ff60448ce4583b988df5b781a85a5": {
          "model_module": "@jupyter-widgets/controls",
          "model_module_version": "1.5.0",
          "model_name": "HTMLModel",
          "state": {
            "_dom_classes": [],
            "_model_module": "@jupyter-widgets/controls",
            "_model_module_version": "1.5.0",
            "_model_name": "HTMLModel",
            "_view_count": null,
            "_view_module": "@jupyter-widgets/controls",
            "_view_module_version": "1.5.0",
            "_view_name": "HTMLView",
            "description": "",
            "description_tooltip": null,
            "layout": "IPY_MODEL_efdea74c9c1344d6899ed82a97d2c20b",
            "placeholder": "​",
            "style": "IPY_MODEL_769ad8e01fb34910be6be05c99b651f1",
            "value": " 16/16 [00:32&lt;00:00,  1.94s/it]"
          }
        },
        "aa1be99265b540af9bd828c6dbbaf6f1": {
          "model_module": "@jupyter-widgets/controls",
          "model_module_version": "1.5.0",
          "model_name": "DescriptionStyleModel",
          "state": {
            "_model_module": "@jupyter-widgets/controls",
            "_model_module_version": "1.5.0",
            "_model_name": "DescriptionStyleModel",
            "_view_count": null,
            "_view_module": "@jupyter-widgets/base",
            "_view_module_version": "1.2.0",
            "_view_name": "StyleView",
            "description_width": ""
          }
        },
        "e6c506c1e9f2412baf8800abc75caf0b": {
          "model_module": "@jupyter-widgets/controls",
          "model_module_version": "1.5.0",
          "model_name": "HBoxModel",
          "state": {
            "_dom_classes": [],
            "_model_module": "@jupyter-widgets/controls",
            "_model_module_version": "1.5.0",
            "_model_name": "HBoxModel",
            "_view_count": null,
            "_view_module": "@jupyter-widgets/controls",
            "_view_module_version": "1.5.0",
            "_view_name": "HBoxView",
            "box_style": "",
            "children": [
              "IPY_MODEL_6e83da8c9d78451c9971cc235155c8ad",
              "IPY_MODEL_21d094eee7f845e89d889fa83876bacc",
              "IPY_MODEL_985ff60448ce4583b988df5b781a85a5"
            ],
            "layout": "IPY_MODEL_134ab63f5e9247ec834991571adf781c"
          }
        },
        "efdea74c9c1344d6899ed82a97d2c20b": {
          "model_module": "@jupyter-widgets/base",
          "model_module_version": "1.2.0",
          "model_name": "LayoutModel",
          "state": {
            "_model_module": "@jupyter-widgets/base",
            "_model_module_version": "1.2.0",
            "_model_name": "LayoutModel",
            "_view_count": null,
            "_view_module": "@jupyter-widgets/base",
            "_view_module_version": "1.2.0",
            "_view_name": "LayoutView",
            "align_content": null,
            "align_items": null,
            "align_self": null,
            "border": null,
            "bottom": null,
            "display": null,
            "flex": null,
            "flex_flow": null,
            "grid_area": null,
            "grid_auto_columns": null,
            "grid_auto_flow": null,
            "grid_auto_rows": null,
            "grid_column": null,
            "grid_gap": null,
            "grid_row": null,
            "grid_template_areas": null,
            "grid_template_columns": null,
            "grid_template_rows": null,
            "height": null,
            "justify_content": null,
            "justify_items": null,
            "left": null,
            "margin": null,
            "max_height": null,
            "max_width": null,
            "min_height": null,
            "min_width": null,
            "object_fit": null,
            "object_position": null,
            "order": null,
            "overflow": null,
            "overflow_x": null,
            "overflow_y": null,
            "padding": null,
            "right": null,
            "top": null,
            "visibility": null,
            "width": null
          }
        },
        "f7ee5c559df84e3d87de5b864d109d6f": {
          "model_module": "@jupyter-widgets/controls",
          "model_module_version": "1.5.0",
          "model_name": "ProgressStyleModel",
          "state": {
            "_model_module": "@jupyter-widgets/controls",
            "_model_module_version": "1.5.0",
            "_model_name": "ProgressStyleModel",
            "_view_count": null,
            "_view_module": "@jupyter-widgets/base",
            "_view_module_version": "1.2.0",
            "_view_name": "StyleView",
            "bar_color": null,
            "description_width": ""
          }
        }
      }
    }
  },
  "nbformat": 4,
  "nbformat_minor": 0
}